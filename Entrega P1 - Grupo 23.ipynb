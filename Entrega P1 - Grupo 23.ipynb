{
 "cells": [
  {
   "cell_type": "markdown",
   "id": "49111ad6",
   "metadata": {},
   "source": [
    "Importamos los paquetes necesarios"
   ]
  },
  {
   "cell_type": "code",
   "execution_count": 1,
   "id": "522f7151",
   "metadata": {},
   "outputs": [],
   "source": [
    "import cv2  \n",
    "import numpy as np\n",
    "import matplotlib.pyplot as plt"
   ]
  },
  {
   "cell_type": "markdown",
   "id": "9fb6d72d",
   "metadata": {},
   "source": [
    "Variable para intercalar tarea 4 entre uso de imagen o webcam"
   ]
  },
  {
   "cell_type": "code",
   "execution_count": 22,
   "id": "725fbc1f",
   "metadata": {},
   "outputs": [],
   "source": [
    "use_webcam = False\n",
    "image = \"imagen_retina.jpg\""
   ]
  },
  {
   "cell_type": "markdown",
   "id": "2fe292fd",
   "metadata": {},
   "source": [
    "## Tarea 1\n",
    "Crear una imagen con la textura de un tablero de ajedréz"
   ]
  },
  {
   "cell_type": "code",
   "execution_count": null,
   "id": "a03986a0",
   "metadata": {},
   "outputs": [
    {
     "data": {
      "image/png": "[encoded data removed]",
      "text/plain": [
       "<Figure size 640x480 with 1 Axes>"
      ]
     },
     "metadata": {},
     "output_type": "display_data"
    }
   ],
   "source": [
    "alto = 200\n",
    "ancho = 200\n",
    "gris_img = np.zeros((alto,ancho,1), dtype = np.uint8)\n",
    "gris_img[110:220,0:20,0] = 28\n",
    "\n",
    "gris_img[0:10,20:20,0] = 255\n",
    "for f in range(0,alto,50):\n",
    "    for c in range(0,ancho,50):\n",
    "        gris_img[f:f+25,c:c+25,0] = 255\n",
    "        gris_img[f+25:f+50,c+25:c+50,0] = 255\n",
    "\n",
    "plt.imshow(gris_img, cmap='gray')\n",
    "plt.imshow(gris_img, cmap='gray',vmin=0, vmax=255)\n",
    "plt.show()"
   ]
  },
  {
   "cell_type": "markdown",
   "id": "9435d73a",
   "metadata": {},
   "source": [
    "## Tarea 2\n",
    "Crear una imagen estilo Mondrian con las funciones de dibujo de OpenCV"
   ]
  },
  {
   "cell_type": "code",
   "execution_count": 9,
   "id": "a014d3e4",
   "metadata": {},
   "outputs": [
    {
     "data": {
      "image/png": "[encoded data removed]",
      "text/plain": [
       "<Figure size 640x480 with 1 Axes>"
      ]
     },
     "metadata": {},
     "output_type": "display_data"
    }
   ],
   "source": [
    "alto = 800\n",
    "ancho = 800\n",
    "color_img = np.zeros((alto,ancho,3), dtype = np.uint8)\n",
    "\n",
    "cv2.rectangle(color_img, (10, 10), (250, 250), (255, 0, 0), -1)\n",
    "cv2.rectangle(color_img, (260, 10), (500, 180), (0, 0, 255), -1)\n",
    "cv2.rectangle(color_img, (510, 10), (790, 250), (255, 255, 0), -1)\n",
    "cv2.rectangle(color_img, (10, 260), (180, 500), (0, 0, 0), -1)\n",
    "cv2.rectangle(color_img, (0,270), (180,490),(0, 255, 0), -1 )\n",
    "cv2.rectangle(color_img, (190, 260), (500, 500), (255, 255, 0), -1)\n",
    "cv2.rectangle(color_img, (510, 260), (790, 400), (0, 255, 0), -1)\n",
    "cv2.rectangle(color_img, (10, 510), (390, 790), (0, 0, 255), -1)\n",
    "cv2.rectangle(color_img, (400, 510), (790, 790), (255, 0, 0), -1)\n",
    "\n",
    "cv2.rectangle(color_img, (0, 0), (799, 799), (0, 0, 0), 20)\n",
    "cv2.line(color_img, (250, 0), (250, 500), (0, 0, 0), 20)\n",
    "cv2.line(color_img, (500, 0), (500, 800), (0, 0, 0), 20)\n",
    "cv2.line(color_img, (0, 250), (800, 250), (0, 0, 0), 20)\n",
    "cv2.line(color_img, (0, 500), (800, 500), (0, 0, 0), 20)\n",
    "\n",
    "plt.imshow(color_img) \n",
    "plt.show()"
   ]
  },
  {
   "cell_type": "markdown",
   "id": "aabd2438",
   "metadata": {},
   "source": [
    "## Tarea 3\n",
    "Modificar de forma libre los valores de de un plano de la imagen"
   ]
  },
  {
   "cell_type": "code",
   "execution_count": null,
   "id": "8e8e59f3",
   "metadata": {},
   "outputs": [],
   "source": [
    "vid = cv2.VideoCapture(0)\n",
    "  \n",
    "while(True):      \n",
    "    ret, frame = vid.read()\n",
    "\n",
    "    if ret:\n",
    "        b = frame[:,:,0]\n",
    "        g = frame[:,:,1]\n",
    "        r = frame[:,:,2]\n",
    "        h, w, c = frame.shape\n",
    "\n",
    "        #Tarea\n",
    "        b = 255 - b\n",
    "        r = cv2.add(r, 100)\n",
    "        \n",
    "\n",
    "        collage = np.hstack((r, g, b))\n",
    "    \n",
    "        cv2.imshow('RGB', cv2.resize(collage, (int(w*1.5),int(h/2)),cv2.INTER_NEAREST))\n",
    "    \n",
    "    if cv2.waitKey(20) == 27:\n",
    "        break\n",
    "  \n",
    "vid.release()\n",
    "cv2.destroyAllWindows()"
   ]
  },
  {
   "cell_type": "markdown",
   "id": "4dfc40b5",
   "metadata": {},
   "source": [
    "## TAREA 4\n",
    "Pintar círculos en las posiciones del píxel más claro y oscuro de la imagen \n",
    "¿Si quisieras hacerlo sobre la zona 8x8 más clara/oscura?"
   ]
  },
  {
   "cell_type": "markdown",
   "id": "7dfec550",
   "metadata": {},
   "source": [
    "### Selección por píxeles"
   ]
  },
  {
   "cell_type": "code",
   "execution_count": 23,
   "id": "4856434c",
   "metadata": {},
   "outputs": [],
   "source": [
    "if use_webcam:\n",
    "    vid = cv2.VideoCapture(0)\n",
    "else:\n",
    "    frame = cv2.imread(image)\n",
    "\n",
    "while True:\n",
    "    if use_webcam:\n",
    "        ret, frame = vid.read()\n",
    "        if not ret:\n",
    "            break\n",
    "\n",
    "    gray = cv2.cvtColor(frame, cv2.COLOR_BGR2GRAY)\n",
    "\n",
    "    min_val, max_val, min_loc, max_loc = cv2.minMaxLoc(gray)\n",
    "\n",
    "    cv2.circle(frame, max_loc, 5, (0,0,255), 2)\n",
    "    cv2.circle(frame, min_loc, 5, (255,0,0), 2)\n",
    "\n",
    "    cv2.imshow(\"Webcam - extremos con minMaxLoc\", frame)\n",
    "\n",
    "    if not use_webcam:\n",
    "        cv2.waitKey(0)\n",
    "        break\n",
    "\n",
    "    if cv2.waitKey(20) == 27:\n",
    "        break\n",
    "\n",
    "if use_webcam:\n",
    "    vid.release()\n",
    "cv2.destroyAllWindows()\n"
   ]
  },
  {
   "cell_type": "markdown",
   "id": "03d6efff",
   "metadata": {},
   "source": [
    "### Selección por Bloque"
   ]
  },
  {
   "cell_type": "code",
   "execution_count": null,
   "id": "06d23ec7",
   "metadata": {},
   "outputs": [],
   "source": [
    "block_size = 50\n",
    "\n",
    "if use_webcam:\n",
    "    vid = cv2.VideoCapture(0)\n",
    "else:\n",
    "    frame = cv2.imread(image)\n",
    "\n",
    "while True:\n",
    "    if use_webcam:\n",
    "        ret, frame = vid.read()\n",
    "        if not ret:\n",
    "            break\n",
    "\n",
    "    luminosity = cv2.cvtColor(frame, cv2.COLOR_BGR2GRAY)\n",
    "    h, w = luminosity.shape\n",
    "\n",
    "    min_val = 255\n",
    "    max_val = 0\n",
    "    min_pos = (0,0)\n",
    "    max_pos = (0,0)\n",
    "\n",
    "    for y in range(0, h, block_size):\n",
    "        for x in range(0, w, block_size):\n",
    "            block = luminosity[y:y+block_size, x:x+block_size]\n",
    "            block_mean = np.mean(block)\n",
    "            if block_mean < min_val:\n",
    "                min_val = block_mean\n",
    "                min_pos = (x + block_size//2, y + block_size//2)\n",
    "            if block_mean > max_val:\n",
    "                max_val = block_mean\n",
    "                max_pos = (x + block_size//2, y + block_size//2)\n",
    "\n",
    "    cv2.circle(frame, min_pos, block_size//2, (0,0,128), -1)\n",
    "    cv2.circle(frame, max_pos, block_size//2, (128,255,128), -1)\n",
    "\n",
    "    cv2.imshow('Cam', cv2.flip(frame,1))\n",
    "\n",
    "    if not use_webcam:\n",
    "        cv2.waitKey(0)\n",
    "        break\n",
    "\n",
    "    if cv2.waitKey(20) == 27:\n",
    "        break\n",
    "\n",
    "if use_webcam:\n",
    "    vid.release()\n",
    "cv2.destroyAllWindows()\n"
   ]
  },
  {
   "cell_type": "markdown",
   "id": "59d403f7",
   "metadata": {},
   "source": [
    "## Tarea 5\n",
    "Llevar a cabo tu propuesta de Pop-Art"
   ]
  },
  {
   "cell_type": "code",
   "execution_count": null,
   "id": "cd8c82aa",
   "metadata": {},
   "outputs": [],
   "source": [
    "vid = cv2.VideoCapture(0)\n",
    "\n",
    "w = int(vid.get(cv2.CAP_PROP_FRAME_WIDTH))\n",
    "h = int(vid.get(cv2.CAP_PROP_FRAME_HEIGHT))\n",
    "\n",
    "w=int(w/2)\n",
    "h=int(h/2)\n",
    "vid.set(cv2.CAP_PROP_FRAME_WIDTH, w)\n",
    "vid.set(cv2.CAP_PROP_FRAME_HEIGHT, h)\n",
    "\n",
    "collage = np.zeros((h*2,w*2,3), dtype = np.uint8)\n",
    "tl = collage[0:h,0:w]\n",
    "tr = collage[0:h,w:w+w]\n",
    "bl = collage[h:h+h,0:w]\n",
    "br = collage[h:h+h,w:w+w]\n",
    "\n",
    "while True:      \n",
    "    ret, frameIN = vid.read()\n",
    "\n",
    "    frame = cv2.resize(frameIN, (int(w),int(h)),cv2.INTER_NEAREST)\n",
    "\n",
    "    if ret:\n",
    "        r = frame[:,:,2]\n",
    "        g = frame[:,:,1]\n",
    "        b = frame[:,:,0]\n",
    "\n",
    "        tl[:,:,0] = b\n",
    "        tl[:,:,1] = g\n",
    "        tl[:,:,2] = r\n",
    "\n",
    "        tr[:,:,0] = 255 - r\n",
    "        tr[:,:,1] = 96 - g\n",
    "        tr[:,:,2] = 55 + b\n",
    "        \n",
    "        bl[:,:,0] = b\n",
    "        bl[:,:,1] = g\n",
    "        bl[:,:,2] = r\n",
    "\n",
    "        mosaic_triangles = np.zeros_like(frame)\n",
    "        block = 8\n",
    "        for y in range(0, frame.shape[0], block):\n",
    "            for x in range(0, frame.shape[1], block):\n",
    "                x2, y2 = x + block, y + block\n",
    "                color = frame[y:y+block,x:x+block].mean(axis=(0, 1)).tolist()\n",
    "                pts = np.array([[x, y], [x2, y], [(x+x2)//2, y2]], np.int32)\n",
    "                cv2.fillPoly(mosaic_triangles, [pts], color)\n",
    "\n",
    "        bl[:,:,] = mosaic_triangles\n",
    "\n",
    "        br[:,:,0] = 255 -b\n",
    "        br[:,:,1] = 159  + g\n",
    "        br[:,:,2] = 255 + r\n",
    "    \n",
    "        cv2.imshow('Cam', collage)\n",
    "    \n",
    "    if cv2.waitKey(20) == 27:\n",
    "        break\n",
    "  \n",
    "vid.release()\n",
    "cv2.destroyAllWindows()"
   ]
  }
 ],
 "metadata": {
  "kernelspec": {
   "display_name": "vc_p1",
   "language": "python",
   "name": "python3"
  },
  "language_info": {
   "codemirror_mode": {
    "name": "ipython",
    "version": 3
   },
   "file_extension": ".py",
   "mimetype": "text/x-python",
   "name": "python",
   "nbconvert_exporter": "python",
   "pygments_lexer": "ipython3",
   "version": "3.11.5"
  }
 },
 "nbformat": 4,
 "nbformat_minor": 5
}
